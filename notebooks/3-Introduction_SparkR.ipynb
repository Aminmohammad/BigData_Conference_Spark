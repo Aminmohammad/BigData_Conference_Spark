{
 "cells": [
  {
   "cell_type": "markdown",
   "metadata": {},
   "source": [
    "# Analyse interactive avec SparkR\n",
    "## Initialisation\n",
    "Utilisons Spark pour calculer certaines statistiques sur un jeu de données.\n",
    "\n",
    "On doit dans un premier temps importer la librairie  R pour Spark"
   ]
  },
  {
   "cell_type": "code",
   "execution_count": null,
   "metadata": {
    "collapsed": false,
    "scrolled": false
   },
   "outputs": [],
   "source": [
    "library(SparkR)"
   ]
  },
  {
   "cell_type": "markdown",
   "metadata": {},
   "source": [
    "ensuite récupérer le nom d'hôte du noeud maître"
   ]
  },
  {
   "cell_type": "code",
   "execution_count": null,
   "metadata": {
    "collapsed": false
   },
   "outputs": [],
   "source": [
    "hostname = system('hostname', intern=TRUE)\n",
    "master_url = paste('spark://',hostname,':7077', sep='')"
   ]
  },
  {
   "cell_type": "markdown",
   "metadata": {},
   "source": [
    "puis créer un contexte Spark et un context Spark SQL. Ce dernier permet de lire et manipuler des données structurées."
   ]
  },
  {
   "cell_type": "code",
   "execution_count": null,
   "metadata": {
    "collapsed": false
   },
   "outputs": [],
   "source": [
    "sc <- sparkR.init(master_url)\n",
    "sqlsc <- sparkRSQL.init(sc)"
   ]
  },
  {
   "cell_type": "markdown",
   "metadata": {},
   "source": [
    "La création du contexte a démarré une nouvelle application SparkR. Pour s'en convaincre, on peut visiter la page de la console web de Spark :\n",
    "\n",
    "[http://< hostname >:4040](http://< hostname >:4040)"
   ]
  },
  {
   "cell_type": "markdown",
   "metadata": {},
   "source": [
    "## Création d'un jeu de données."
   ]
  },
  {
   "cell_type": "markdown",
   "metadata": {},
   "source": [
    "On va maintenant créer un jeu de données DataFrame à partir d'un fichier Parquet contenant les données de visite de Wikipedia. Les fichiers de données se trouvent dans le répertoire `data/pagecounts.parquet`."
   ]
  },
  {
   "cell_type": "code",
   "execution_count": null,
   "metadata": {
    "collapsed": false
   },
   "outputs": [],
   "source": [
    "pagecounts <- read.df(sqlsc, 'data/pagecounts.parquet')"
   ]
  },
  {
   "cell_type": "markdown",
   "metadata": {},
   "source": [
    "Le contenu d'un fichier pagecounts ressemble à ceci:\n",
    "```\n",
    "20090505-000000 af Spesiaal:Onlangse_wysigings 3 101681\n",
    "20090505-000000 af Spesiaal:RecentChanges 2 2248\n",
    "20090505-000000 af Suid-Afrika 1 30698\n",
    "20090505-000000 af Tuisblad 14 155257 \n",
    "20090505-000000 af Varkgriep 4 42236\n",
    "20090505-000000 af Wikipedia 2 32796\n",
    "```\n",
    "\n",
    "Il s'agit d'un fichier tabulaire où la première colonne représente la date et l'heure d'échantillonnage, la deuxième colonne la langue, la troisième colonne le nom de la page, la quatrième colonne le nombre de visionnements de la page pour cette date, et la cinquième colonne la taille de la page en octet.\n",
    "\n",
    "On peut le constater en utilisant la commande `take` du DataFrame pour obtenir les K premiers éléments d'un jeu de données. Ici `K = 10`."
   ]
  },
  {
   "cell_type": "code",
   "execution_count": null,
   "metadata": {
    "collapsed": false,
    "scrolled": true
   },
   "outputs": [],
   "source": [
    "take(pagecounts, 10)"
   ]
  },
  {
   "cell_type": "markdown",
   "metadata": {},
   "source": [
    "On peut vérifier la nature de l'objet retourné par la fonction `take`:"
   ]
  },
  {
   "cell_type": "code",
   "execution_count": null,
   "metadata": {
    "collapsed": false
   },
   "outputs": [],
   "source": [
    "class(take(pagecounts, 1))"
   ]
  },
  {
   "cell_type": "markdown",
   "metadata": {
    "collapsed": false
   },
   "source": [
    "La fonction take est donc une action retournant directement un résultat, soit un `data.frame` R."
   ]
  },
  {
   "cell_type": "markdown",
   "metadata": {},
   "source": [
    "## Mise en cache d'un DataFrame"
   ]
  },
  {
   "cell_type": "markdown",
   "metadata": {},
   "source": [
    "Lorsque l'on s'attend à effectuer plusieurs opérations sur un même jeu de données, il peut être utile de spécifier à Spark de garder le DataFrame en mémoire, comme ceci:"
   ]
  },
  {
   "cell_type": "code",
   "execution_count": null,
   "metadata": {
    "collapsed": false
   },
   "outputs": [],
   "source": [
    "pagecounts <- cache(pagecounts)"
   ]
  },
  {
   "cell_type": "markdown",
   "metadata": {},
   "source": [
    "Le jeu de données n'est transféré en mémoire que lorsqu'une action est appliquée. Les RDD stockés en mémoire peuvent être visualisés dans la section **Storage** de l'interface web de Spark\n",
    "[http://< hostname > :4040/storage/](http://<hostname>:4040/storage/)\n",
    "\n",
    "Pour libérer l'espace mémoire prise par un RDD en cache dont on n'aurait plus besoin, on appelle la méthode `unpersist`."
   ]
  },
  {
   "cell_type": "code",
   "execution_count": null,
   "metadata": {
    "collapsed": false
   },
   "outputs": [],
   "source": [
    "unpersist(pagecounts)"
   ]
  },
  {
   "cell_type": "markdown",
   "metadata": {},
   "source": [
    "## Action sur un jeu de données\n",
    "\n",
    "La fonction `take` n'est qu'une parmi plusieurs *actions* que l'on peut effectuer sur un DataFrame. La liste exhaustive des actions est disponible à l'adresse suivante:\n",
    "https://spark.apache.org/docs/latest/sql-programming-guide.html#dataframes\n",
    "\n",
    "Prenons par exemple la fonction `count` qui retourne le nombre d'éléments dans un DataFrame."
   ]
  },
  {
   "cell_type": "code",
   "execution_count": null,
   "metadata": {
    "collapsed": false
   },
   "outputs": [],
   "source": [
    "count(pagecounts)"
   ]
  },
  {
   "cell_type": "markdown",
   "metadata": {},
   "source": [
    "Chaque action commise sur un DataFrame entraîne la création d'une ou de plusieurs tâches et ensuite la production d'un résultat. Toutes les tâches réalisées dans un même contexte Spark peuvent être visualisées dans la console web de Spark: [http://< hostname >:4040/](http://< hostname >:4040/)\n",
    "\n",
    "Cette interface permet de suivre la progression d'une tâche et de consulter diverses métriques concernant l'exécution de la tâche, dont la durée de la tâche et les statistiques de cache."
   ]
  },
  {
   "cell_type": "markdown",
   "metadata": {},
   "source": [
    "## Information sur un DataFrame"
   ]
  },
  {
   "cell_type": "markdown",
   "metadata": {},
   "source": [
    "On peut d'abord afficher simplement au format texte le contenu des 20 premières lignes en appelant la fonction  `showDF`."
   ]
  },
  {
   "cell_type": "code",
   "execution_count": null,
   "metadata": {
    "collapsed": false
   },
   "outputs": [],
   "source": [
    "showDF(pagecounts)"
   ]
  },
  {
   "cell_type": "markdown",
   "metadata": {},
   "source": [
    "On peut ensuite s'intéresser par exemple au schéma des données."
   ]
  },
  {
   "cell_type": "code",
   "execution_count": null,
   "metadata": {
    "collapsed": false
   },
   "outputs": [],
   "source": [
    "printSchema(pagecounts)"
   ]
  },
  {
   "cell_type": "markdown",
   "metadata": {},
   "source": [
    "La même information est aussi contenue dans la description de l'objet DataFrame de manière plus compact."
   ]
  },
  {
   "cell_type": "code",
   "execution_count": null,
   "metadata": {
    "collapsed": false
   },
   "outputs": [],
   "source": [
    "print(pagecounts)"
   ]
  },
  {
   "cell_type": "markdown",
   "metadata": {},
   "source": [
    "La fonction `head` retourne les 6 premières lignes du DataFrame, sous la forme d'un data.frame R. "
   ]
  },
  {
   "cell_type": "code",
   "execution_count": null,
   "metadata": {
    "collapsed": false
   },
   "outputs": [],
   "source": [
    "head(pagecounts)"
   ]
  },
  {
   "cell_type": "markdown",
   "metadata": {},
   "source": [
    "Vous constaterez qu'il s'agit du même résultat que si on avait appellé la fonction `take` avec 6 comme argument. "
   ]
  },
  {
   "cell_type": "code",
   "execution_count": null,
   "metadata": {
    "collapsed": false
   },
   "outputs": [],
   "source": [
    "take(pagecounts, 6)"
   ]
  },
  {
   "cell_type": "markdown",
   "metadata": {},
   "source": [
    "Tout comme R, SparkR permet d'effectuer plusieurs opérations identiques avec des appels de fonction différents. Il n'existe pas toujours de façon meilleure que les autres.\n",
    "\n",
    "Si vous vous rendez sur la page : [http://< hostname >:4040/jobs/](http://< hostname >:4040/jobs/), vous constaterez que la plupart des appels de fonctions que l'on a effectué jusqu'à présent sont implémentés par le même appel natif."
   ]
  },
  {
   "cell_type": "markdown",
   "metadata": {},
   "source": [
    "## Filtrer un DataFrame"
   ]
  },
  {
   "cell_type": "markdown",
   "metadata": {},
   "source": [
    "Comme on dispose maintenant d'un DataFrame facile à manipuler, on peut débuter l'analyse. Intéressons nous d'abord aux pages en langue anglaise.\n",
    "\n",
    "La ligne suivante filtre le dernier DataFrame que nous avons créé et ne conserve que les entrées en français, c'est-à-dire les entrées dont la colonne \"lang\" correspond à la chaîne `\"fr\"`."
   ]
  },
  {
   "cell_type": "code",
   "execution_count": null,
   "metadata": {
    "collapsed": false
   },
   "outputs": [],
   "source": [
    "pagecounts_fr <- filter(pagecounts, pagecounts$lang == \"fr\")"
   ]
  },
  {
   "cell_type": "markdown",
   "metadata": {},
   "source": [
    "On peut aussi utiliser la fonction `where` qui a exactement la même signature et le même comportement."
   ]
  },
  {
   "cell_type": "code",
   "execution_count": null,
   "metadata": {
    "collapsed": false
   },
   "outputs": [],
   "source": [
    "pagecounts_fr <- where(pagecounts, pagecounts$lang == \"fr\")\n",
    "head(pagecounts_fr)"
   ]
  },
  {
   "cell_type": "markdown",
   "metadata": {},
   "source": [
    "Nous allons vérifier la différence de la rapidité d'exécution avant et après avoir mis un DataFrame en cache."
   ]
  },
  {
   "cell_type": "code",
   "execution_count": null,
   "metadata": {
    "collapsed": false
   },
   "outputs": [],
   "source": [
    "cache(pagecounts_fr)"
   ]
  },
  {
   "cell_type": "markdown",
   "metadata": {},
   "source": [
    "Tant qu'aucune action n'a été commise sur le DataFrame, ce dernier ne sera pas mis en cache. Comme action, on peut, par exemple, pour compter le nombre de pages en français."
   ]
  },
  {
   "cell_type": "code",
   "execution_count": null,
   "metadata": {
    "collapsed": false
   },
   "outputs": [],
   "source": [
    "ptm <- proc.time()\n",
    "count(pagecounts_fr)\n",
    "proc.time() - ptm"
   ]
  },
  {
   "cell_type": "markdown",
   "metadata": {},
   "source": [
    "Puisqu'on a dit à Spark de conserver en mémoire ce nouveau jeu de données, on constatere que la vitesse d'exécution du décompte du nombre de pages est plus rapide à sa deuxième exécution."
   ]
  },
  {
   "cell_type": "code",
   "execution_count": null,
   "metadata": {
    "collapsed": false
   },
   "outputs": [],
   "source": [
    "ptm <- proc.time()\n",
    "count(pagecounts_fr)\n",
    "proc.time() - ptm"
   ]
  },
  {
   "cell_type": "markdown",
   "metadata": {
    "collapsed": true
   },
   "source": [
    "## Opération d'aggrégation"
   ]
  },
  {
   "cell_type": "markdown",
   "metadata": {},
   "source": [
    "On veut maintenant calculer le nombre total de page vue pour chaque langue. Pour ce faire, on utilise la fonction `groupBy`. Cette fonction permet de grouper tous les éléments partageant une même clé que l'on doit fournir.\n",
    "\n",
    "Dans notre cas, la clé est la langue."
   ]
  },
  {
   "cell_type": "code",
   "execution_count": null,
   "metadata": {
    "collapsed": true
   },
   "outputs": [],
   "source": [
    "pagegroups <- groupBy(pagecounts, pagecounts$lang)"
   ]
  },
  {
   "cell_type": "markdown",
   "metadata": {},
   "source": [
    "La valeur qui nous intéresse est le nombre total de vues par langue."
   ]
  },
  {
   "cell_type": "code",
   "execution_count": null,
   "metadata": {
    "collapsed": true
   },
   "outputs": [],
   "source": [
    "view_per_lang <- sum(pagecounts$pagecount)"
   ]
  },
  {
   "cell_type": "markdown",
   "metadata": {},
   "source": [
    "On peut ensuite effectuer une aggrégation du nombre de vues des pages partageant la même langue"
   ]
  },
  {
   "cell_type": "code",
   "execution_count": null,
   "metadata": {
    "collapsed": false
   },
   "outputs": [],
   "source": [
    "lang_pagecounts <- agg(pagegroups, totalview = view_per_lang)"
   ]
  },
  {
   "cell_type": "markdown",
   "metadata": {},
   "source": [
    "Puisque l'aggrégation est une transformation, le résultat est un nouveau RDD.\n",
    "\n",
    "Pour visualiser la totalité du contenu de ce dernier RDD, on peut appeler la fonction `collect`."
   ]
  },
  {
   "cell_type": "code",
   "execution_count": null,
   "metadata": {
    "collapsed": false
   },
   "outputs": [],
   "source": [
    "collect(lang_pagecounts)"
   ]
  },
  {
   "cell_type": "markdown",
   "metadata": {},
   "source": [
    "Pour obtenir seulement les 5 langues les plus populaires, il faut effectuer un tri. Deux choix s'offrent à nous:\n",
    "\n",
    "1- On effectue le tri localement. On crée d'abord un dataframe à partir du résultat:"
   ]
  },
  {
   "cell_type": "code",
   "execution_count": null,
   "metadata": {
    "collapsed": false
   },
   "outputs": [],
   "source": [
    "data <- collect(lang_pagecounts)"
   ]
  },
  {
   "cell_type": "markdown",
   "metadata": {},
   "source": [
    "À partir du dataframe, on peut trier et obtenir les 5 langues les plus utilisées:"
   ]
  },
  {
   "cell_type": "code",
   "execution_count": null,
   "metadata": {
    "collapsed": false
   },
   "outputs": [],
   "source": [
    "top5_df = data[rev(order(data$totalview)),][1:5,]\n",
    "top5_df"
   ]
  },
  {
   "cell_type": "markdown",
   "metadata": {},
   "source": [
    "2- On utilise Spark pour effectuer le tri de manière distribuée en utilisant la commande `sortByKey`."
   ]
  },
  {
   "cell_type": "code",
   "execution_count": null,
   "metadata": {
    "collapsed": false
   },
   "outputs": [],
   "source": [
    "top5 <- take(arrange(lang_pagecounts, desc(lang_pagecounts$totalview)), 5)"
   ]
  },
  {
   "cell_type": "markdown",
   "metadata": {},
   "source": [
    "On peut finalement afficher un histogramme des 5 langues les plus utilisées."
   ]
  },
  {
   "cell_type": "code",
   "execution_count": null,
   "metadata": {
    "collapsed": false
   },
   "outputs": [],
   "source": [
    "barplot(top5$totalview, names.arg=top5$lang)"
   ]
  },
  {
   "cell_type": "code",
   "execution_count": null,
   "metadata": {
    "collapsed": true
   },
   "outputs": [],
   "source": []
  }
 ],
 "metadata": {
  "kernelspec": {
   "display_name": "R",
   "language": "R",
   "name": "ir"
  },
  "language_info": {
   "codemirror_mode": "r",
   "file_extension": ".r",
   "mimetype": "text/x-r-source",
   "name": "R",
   "pygments_lexer": "r",
   "version": "3.1.2"
  }
 },
 "nbformat": 4,
 "nbformat_minor": 0
}
