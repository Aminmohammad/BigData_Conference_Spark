{
 "cells": [
  {
   "cell_type": "markdown",
   "metadata": {},
   "source": [
    "# Dataset Retrieval\n",
    "## Initialization"
   ]
  },
  {
   "cell_type": "code",
   "execution_count": null,
   "metadata": {
    "collapsed": false
   },
   "outputs": [],
   "source": [
    "from spark_helper import download_check_extract"
   ]
  },
  {
   "cell_type": "markdown",
   "metadata": {},
   "source": [
    "## 1. Wikipedia PageCounts"
   ]
  },
  {
   "cell_type": "code",
   "execution_count": null,
   "metadata": {
    "collapsed": false
   },
   "outputs": [],
   "source": [
    "LOCAL_PATH = 'data/pagecounts'\n",
    "URL = 'https://dumps.wikimedia.org/other/pagecounts-raw/2009/2009-05/'\n",
    "ARCHIVES = ['pagecounts-20090501-000000.gz','pagecounts-20090501-010000.gz','pagecounts-20090501-020000.gz']\n",
    "MD5 = ['1c03c14c2432d572824fc73ae9b30139', 'd8b23af53466d1893221ff766fedd010', '3623b189e28dfa5387b3e0fc82779c66']\n",
    "\n",
    "download_check_extract(LOCAL_PATH, URL, ARCHIVES, MD5)"
   ]
  },
  {
   "cell_type": "markdown",
   "metadata": {},
   "source": [
    "## 2. The Complete Works of William Shakespeare "
   ]
  },
  {
   "cell_type": "code",
   "execution_count": null,
   "metadata": {
    "collapsed": false
   },
   "outputs": [],
   "source": [
    "LOCAL_PATH = 'data/shakespeare'\n",
    "URL = 'http://sydney.edu.au/engineering/it/~matty/Shakespeare/'\n",
    "FILES = ['shakespeare.tar.gz']\n",
    "MD5 = ['d9e012cb9c7f1509a1c5c59cf6e3a7e6']\n",
    "\n",
    "download_check_extract(LOCAL_PATH, URL, FILES, MD5)"
   ]
  },
  {
   "cell_type": "markdown",
   "metadata": {
    "collapsed": true
   },
   "source": [
    "## 3. Oxford Flowers"
   ]
  },
  {
   "cell_type": "code",
   "execution_count": null,
   "metadata": {
    "collapsed": false
   },
   "outputs": [],
   "source": [
    "LOCAL_PATH = 'data/flowers'\n",
    "URL = 'http://www.robots.ox.ac.uk/~vgg/data/flowers/17/'\n",
    "ARCHIVES = ['17flowers.tgz']\n",
    "MD5 = ['b59a65d8d1a99cd66944d474e1289eab']\n",
    "\n",
    "download_check_extract(LOCAL_PATH, URL, ARCHIVES, MD5)"
   ]
  },
  {
   "cell_type": "markdown",
   "metadata": {},
   "source": [
    "## 4. Marvel Hero Social Network"
   ]
  },
  {
   "cell_type": "code",
   "execution_count": null,
   "metadata": {
    "collapsed": false
   },
   "outputs": [],
   "source": [
    "LOCAL_PATH = 'data/marvel'\n",
    "URL = \"http://exposedata.com/marvel/data/\"\n",
    "ARCHIVES = ['hero-network.csv']\n",
    "MD5 = ['3fe952dd1febb66efbb96432f8ddc99a']\n",
    "\n",
    "download_check_extract(LOCAL_PATH, URL, ARCHIVES, MD5)"
   ]
  },
  {
   "cell_type": "code",
   "execution_count": null,
   "metadata": {
    "collapsed": true
   },
   "outputs": [],
   "source": []
  }
 ],
 "metadata": {
  "kernelspec": {
   "display_name": "Python 3",
   "language": "python",
   "name": "python3"
  },
  "language_info": {
   "codemirror_mode": {
    "name": "ipython",
    "version": 3
   },
   "file_extension": ".py",
   "mimetype": "text/x-python",
   "name": "python",
   "nbconvert_exporter": "python",
   "pygments_lexer": "ipython3",
   "version": "3.4.2"
  }
 },
 "nbformat": 4,
 "nbformat_minor": 0
}
