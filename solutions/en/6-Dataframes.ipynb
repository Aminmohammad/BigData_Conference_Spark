{
 "cells": [
  {
   "cell_type": "markdown",
   "metadata": {},
   "source": [
    "# Practice 3: Dataframes (solution)\n",
    "\n",
    "## Initialization"
   ]
  },
  {
   "cell_type": "code",
   "execution_count": null,
   "metadata": {
    "collapsed": true
   },
   "outputs": [],
   "source": [
    "from pyspark.sql import SQLContext\n",
    "sqlContext = SQLContext(sc)"
   ]
  },
  {
   "cell_type": "markdown",
   "metadata": {},
   "source": [
    "##  Reading Datasets as DataFrames"
   ]
  },
  {
   "cell_type": "code",
   "execution_count": null,
   "metadata": {
    "collapsed": true
   },
   "outputs": [],
   "source": [
    "customers = sqlContext.read.format('com.databricks.spark.csv')\\\n",
    "                      .options(header='true', inferschema='true', delimiter='\\t')\\\n",
    "                      .load('data/store/customers.tsv')\n",
    "\n",
    "details = sqlContext.read.format('com.databricks.spark.csv')\\\n",
    "                    .options(header='true', inferschema='true', delimiter='\\t')\\\n",
    "                    .load('data/store/order_details.tsv')\n",
    "\n",
    "orders = sqlContext.read.format('com.databricks.spark.csv')\\\n",
    "                   .options(header='true', inferschema='true', delimiter='\\t')\\\n",
    "                   .load('data/store/orders.tsv')\n",
    "\n",
    "products = sqlContext.read.format('com.databricks.spark.csv')\\\n",
    "                     .options(header='true', inferschema='true', delimiter='\\t')\\\n",
    "                     .load('data/store/products.tsv')"
   ]
  },
  {
   "cell_type": "markdown",
   "metadata": {},
   "source": [
    "## API Solution"
   ]
  },
  {
   "cell_type": "code",
   "execution_count": null,
   "metadata": {
    "collapsed": false
   },
   "outputs": [],
   "source": [
    "sub_orders = orders.select('OrderID', 'CustomerID')\n",
    "sub_clients = customers.select('CustomerID', 'Country')\n",
    "sub_details = details.select('OrderID', 'ProductID', 'Quantity')\n",
    "sub_products = products.select('ProductID', 'Price')\n",
    "\n",
    "df = sub_orders.join(sub_clients, 'CustomerID')\\\n",
    "               .join(sub_details, 'OrderID')\\\n",
    "               .join(sub_products, 'ProductID')\n",
    "        \n",
    "df2 = df.withColumn('Total', df.Quantity * df.Price)\\\n",
    "        .select('OrderID', 'Country', 'Total')\\\n",
    "        .groupBy('OrderID', 'Country')\\\n",
    "        .agg({'Total' : 'sum'})\n",
    "\n",
    "df3 = df2.groupBy('Country').agg({'sum(Total)' : 'avg'})\n",
    "\n",
    "df3.orderBy('avg(sum(Total))', ascending=False).show(5)"
   ]
  },
  {
   "cell_type": "markdown",
   "metadata": {},
   "source": [
    "## SQL Query Solution"
   ]
  },
  {
   "cell_type": "code",
   "execution_count": null,
   "metadata": {
    "collapsed": true
   },
   "outputs": [],
   "source": []
  }
 ],
 "metadata": {
  "kernelspec": {
   "display_name": "Python 3",
   "language": "python",
   "name": "python3"
  },
  "language_info": {
   "codemirror_mode": {
    "name": "ipython",
    "version": 3
   },
   "file_extension": ".py",
   "mimetype": "text/x-python",
   "name": "python",
   "nbconvert_exporter": "python",
   "pygments_lexer": "ipython3",
   "version": "3.4.2"
  }
 },
 "nbformat": 4,
 "nbformat_minor": 0
}
